{
 "cells": [
  {
   "cell_type": "code",
   "execution_count": 1,
   "id": "155d6ef6",
   "metadata": {},
   "outputs": [],
   "source": [
    "import awswrangler as wr"
   ]
  },
  {
   "cell_type": "code",
   "execution_count": 27,
   "id": "e3e284aa",
   "metadata": {},
   "outputs": [],
   "source": [
    "wr.catalog.create_parquet_table(\n",
    "    database='zipcode',\n",
    "    table='zip_code_governed_table',\n",
    "    path='s3://aaa-demo-test-two/zipcode/',\n",
    "    columns_types={'zip_code': 'int', \n",
    "                   'latitude': 'string',\n",
    "                   'longitude': 'string', \n",
    "                   'city': 'string',\n",
    "                  'state':'string',\n",
    "                  'country': 'string',},\n",
    "    compression= 'snappy',\n",
    "    description= 'zip code information table',\n",
    "    columns_comments= {'zip_code': 'zip_code id ', \n",
    "                      'latitude': 'latitude of country', \n",
    "                      'longitude': 'longitude of country',\n",
    "                      'city': 'city name',\n",
    "                      'state': 'state name',\n",
    "                      'country': 'countyr name'},\n",
    "    \n",
    "    table_type = \"GOVERNED\"\n",
    "    )"
   ]
  },
  {
   "cell_type": "code",
   "execution_count": 28,
   "id": "430a3271",
   "metadata": {},
   "outputs": [
    {
     "data": {
      "text/html": [
       "<div>\n",
       "<style scoped>\n",
       "    .dataframe tbody tr th:only-of-type {\n",
       "        vertical-align: middle;\n",
       "    }\n",
       "\n",
       "    .dataframe tbody tr th {\n",
       "        vertical-align: top;\n",
       "    }\n",
       "\n",
       "    .dataframe thead th {\n",
       "        text-align: right;\n",
       "    }\n",
       "</style>\n",
       "<table border=\"1\" class=\"dataframe\">\n",
       "  <thead>\n",
       "    <tr style=\"text-align: right;\">\n",
       "      <th></th>\n",
       "      <th>zip_code</th>\n",
       "      <th>latitude</th>\n",
       "      <th>longitude</th>\n",
       "      <th>city</th>\n",
       "      <th>state</th>\n",
       "      <th>country</th>\n",
       "    </tr>\n",
       "  </thead>\n",
       "  <tbody>\n",
       "    <tr>\n",
       "      <th>0</th>\n",
       "      <td>501</td>\n",
       "      <td>40.922326</td>\n",
       "      <td>-72.637078</td>\n",
       "      <td>Holtsville</td>\n",
       "      <td>NY</td>\n",
       "      <td>Suffolk</td>\n",
       "    </tr>\n",
       "    <tr>\n",
       "      <th>1</th>\n",
       "      <td>544</td>\n",
       "      <td>40.922326</td>\n",
       "      <td>-72.637078</td>\n",
       "      <td>Holtsville</td>\n",
       "      <td>NY</td>\n",
       "      <td>Suffolk</td>\n",
       "    </tr>\n",
       "    <tr>\n",
       "      <th>2</th>\n",
       "      <td>601</td>\n",
       "      <td>18.165273</td>\n",
       "      <td>-66.722583</td>\n",
       "      <td>Adjuntas</td>\n",
       "      <td>PR</td>\n",
       "      <td>Adjuntas</td>\n",
       "    </tr>\n",
       "    <tr>\n",
       "      <th>3</th>\n",
       "      <td>602</td>\n",
       "      <td>18.393103</td>\n",
       "      <td>-67.180953</td>\n",
       "      <td>Aguada</td>\n",
       "      <td>PR</td>\n",
       "      <td>Aguada</td>\n",
       "    </tr>\n",
       "    <tr>\n",
       "      <th>4</th>\n",
       "      <td>603</td>\n",
       "      <td>18.455913</td>\n",
       "      <td>-67.145780</td>\n",
       "      <td>Aguadilla</td>\n",
       "      <td>PR</td>\n",
       "      <td>Aguadilla</td>\n",
       "    </tr>\n",
       "  </tbody>\n",
       "</table>\n",
       "</div>"
      ],
      "text/plain": [
       "   zip_code   latitude  longitude        city state    country\n",
       "0       501  40.922326 -72.637078  Holtsville    NY    Suffolk\n",
       "1       544  40.922326 -72.637078  Holtsville    NY    Suffolk\n",
       "2       601  18.165273 -66.722583    Adjuntas    PR   Adjuntas\n",
       "3       602  18.393103 -67.180953      Aguada    PR     Aguada\n",
       "4       603  18.455913 -67.145780   Aguadilla    PR  Aguadilla"
      ]
     },
     "execution_count": 28,
     "metadata": {},
     "output_type": "execute_result"
    }
   ],
   "source": [
    "df = wr.s3.read_csv(r's3://aaa-demo-test-two/zipcode/')\n",
    "df.head()"
   ]
  },
  {
   "cell_type": "code",
   "execution_count": 29,
   "id": "60dc5140",
   "metadata": {},
   "outputs": [
    {
     "data": {
      "text/html": [
       "<div>\n",
       "<style scoped>\n",
       "    .dataframe tbody tr th:only-of-type {\n",
       "        vertical-align: middle;\n",
       "    }\n",
       "\n",
       "    .dataframe tbody tr th {\n",
       "        vertical-align: top;\n",
       "    }\n",
       "\n",
       "    .dataframe thead th {\n",
       "        text-align: right;\n",
       "    }\n",
       "</style>\n",
       "<table border=\"1\" class=\"dataframe\">\n",
       "  <thead>\n",
       "    <tr style=\"text-align: right;\">\n",
       "      <th></th>\n",
       "      <th>zip_code</th>\n",
       "      <th>latitude</th>\n",
       "      <th>longitude</th>\n",
       "      <th>city</th>\n",
       "      <th>state</th>\n",
       "      <th>country</th>\n",
       "    </tr>\n",
       "  </thead>\n",
       "  <tbody>\n",
       "    <tr>\n",
       "      <th>0</th>\n",
       "      <td>501</td>\n",
       "      <td>40.922326</td>\n",
       "      <td>-72.637078</td>\n",
       "      <td>Holtsville</td>\n",
       "      <td>NY</td>\n",
       "      <td>Suffolk</td>\n",
       "    </tr>\n",
       "    <tr>\n",
       "      <th>1</th>\n",
       "      <td>544</td>\n",
       "      <td>40.922326</td>\n",
       "      <td>-72.637078</td>\n",
       "      <td>Holtsville</td>\n",
       "      <td>NY</td>\n",
       "      <td>Suffolk</td>\n",
       "    </tr>\n",
       "    <tr>\n",
       "      <th>2297</th>\n",
       "      <td>6390</td>\n",
       "      <td>40.992288</td>\n",
       "      <td>-72.723496</td>\n",
       "      <td>Fishers Island</td>\n",
       "      <td>NY</td>\n",
       "      <td>Suffolk</td>\n",
       "    </tr>\n",
       "    <tr>\n",
       "      <th>3259</th>\n",
       "      <td>10001</td>\n",
       "      <td>40.750422</td>\n",
       "      <td>-73.996328</td>\n",
       "      <td>New York</td>\n",
       "      <td>NY</td>\n",
       "      <td>New York</td>\n",
       "    </tr>\n",
       "    <tr>\n",
       "      <th>3260</th>\n",
       "      <td>10002</td>\n",
       "      <td>40.718758</td>\n",
       "      <td>-73.986427</td>\n",
       "      <td>New York</td>\n",
       "      <td>NY</td>\n",
       "      <td>New York</td>\n",
       "    </tr>\n",
       "  </tbody>\n",
       "</table>\n",
       "</div>"
      ],
      "text/plain": [
       "      zip_code   latitude  longitude            city state   country\n",
       "0          501  40.922326 -72.637078      Holtsville    NY   Suffolk\n",
       "1          544  40.922326 -72.637078      Holtsville    NY   Suffolk\n",
       "2297      6390  40.992288 -72.723496  Fishers Island    NY   Suffolk\n",
       "3259     10001  40.750422 -73.996328        New York    NY  New York\n",
       "3260     10002  40.718758 -73.986427        New York    NY  New York"
      ]
     },
     "execution_count": 29,
     "metadata": {},
     "output_type": "execute_result"
    }
   ],
   "source": [
    "filtered_df = df[df.state.isin(['NY'])]\n",
    "filtered_df.head()"
   ]
  },
  {
   "cell_type": "markdown",
   "id": "488c6f55",
   "metadata": {},
   "source": [
    "#  Write data to s3"
   ]
  },
  {
   "cell_type": "code",
   "execution_count": 30,
   "id": "b6923115",
   "metadata": {},
   "outputs": [
    {
     "data": {
      "text/plain": [
       "'a52037ec2dac4a2dbbeafa47a34ec6f1'"
      ]
     },
     "execution_count": 30,
     "metadata": {},
     "output_type": "execute_result"
    }
   ],
   "source": [
    "transaction_id = wr.lakeformation.start_transaction(read_only=False)\n",
    "transaction_id"
   ]
  },
  {
   "cell_type": "code",
   "execution_count": 31,
   "id": "ffa68aec",
   "metadata": {},
   "outputs": [
    {
     "data": {
      "text/plain": [
       "{'paths': ['s3://aaa-demo-test-two/zipcode/1eac458811304137ab4e43994baf1c8c.snappy.parquet'],\n",
       " 'partitions_values': {}}"
      ]
     },
     "execution_count": 31,
     "metadata": {},
     "output_type": "execute_result"
    }
   ],
   "source": [
    "wr.s3.to_parquet(\n",
    "    df=filtered_df,\n",
    "    path=f's3://aaa-demo-test-two/zipcode/',\n",
    "    dataset=True,\n",
    "    compression= 'snappy',\n",
    "    database='zipcode',\n",
    "    table='zip_code_governed_table',\n",
    "    parameters={\"num_cols\": str(len(df.columns)), \"num_rows\": str(len(df.index))},\n",
    "    mode='overwrite',\n",
    "    table_type=\"GOVERNED\",\n",
    "    transaction_id = transaction_id\n",
    ")\n"
   ]
  },
  {
   "cell_type": "code",
   "execution_count": 32,
   "id": "e95d286c",
   "metadata": {},
   "outputs": [
    {
     "data": {
      "text/plain": [
       "'committed'"
      ]
     },
     "execution_count": 32,
     "metadata": {},
     "output_type": "execute_result"
    }
   ],
   "source": [
    "wr.lakeformation.commit_transaction(transaction_id)\n",
    "transaction = wr.lakeformation.describe_transaction(transaction_id)\n",
    "transaction"
   ]
  },
  {
   "cell_type": "code",
   "execution_count": 33,
   "id": "068c4070",
   "metadata": {},
   "outputs": [],
   "source": [
    "filtered_df2 = df[df.state.isin(['NY'])]"
   ]
  },
  {
   "cell_type": "code",
   "execution_count": 34,
   "id": "cb5fcdc7",
   "metadata": {},
   "outputs": [
    {
     "data": {
      "text/plain": [
       "'a72fbf7e80304646a64ceb57412e90b6'"
      ]
     },
     "execution_count": 34,
     "metadata": {},
     "output_type": "execute_result"
    }
   ],
   "source": [
    "transaction_id2 = wr.lakeformation.start_transaction(read_only=False)\n",
    "transaction_id2"
   ]
  },
  {
   "cell_type": "code",
   "execution_count": 35,
   "id": "89879ba4",
   "metadata": {},
   "outputs": [
    {
     "name": "stderr",
     "output_type": "stream",
     "text": [
      "C:\\Users\\opera\\anaconda3\\lib\\site-packages\\awswrangler\\_data_types.py:719: SettingWithCopyWarning: \n",
      "A value is trying to be set on a copy of a slice from a DataFrame.\n",
      "Try using .loc[row_indexer,col_indexer] = value instead\n",
      "\n",
      "See the caveats in the documentation: https://pandas.pydata.org/pandas-docs/stable/user_guide/indexing.html#returning-a-view-versus-a-copy\n",
      "  df[col] = df[col].astype(desired_type)\n"
     ]
    }
   ],
   "source": [
    "wr.s3.to_parquet(\n",
    "    df=filtered_df,\n",
    "    path=f's3://aaa-demo-test-two/zipcode/',\n",
    "    dataset=True,\n",
    "    compression= 'snappy',\n",
    "    database='zipcode',\n",
    "    table='zip_code_governed_table',\n",
    "    parameters={\"num_cols\": str(len(df.columns)), \"num_rows\": str(len(df.index))},\n",
    "    mode='append',\n",
    "    table_type=\"GOVERNED\",\n",
    "    transaction_id = transaction_id2\n",
    ")\n",
    "wr.lakeformation.commit_transaction(transaction_id2)"
   ]
  },
  {
   "cell_type": "code",
   "execution_count": 37,
   "id": "5d6f30a3",
   "metadata": {},
   "outputs": [
    {
     "data": {
      "text/plain": [
       "42049"
      ]
     },
     "execution_count": 37,
     "metadata": {},
     "output_type": "execute_result"
    }
   ],
   "source": [
    "df3 = wr.lakeformation.read_sql_query(sql=f\"SELECT * FROM {'zip_code_governed_table'};\",\n",
    "      database = 'zipcode')\n",
    "df3.head()\n",
    "df.shape[0]"
   ]
  },
  {
   "cell_type": "code",
   "execution_count": 38,
   "id": "82889449",
   "metadata": {},
   "outputs": [
    {
     "data": {
      "text/plain": [
       "2232"
      ]
     },
     "execution_count": 38,
     "metadata": {},
     "output_type": "execute_result"
    }
   ],
   "source": [
    "df4 = wr.lakeformation.read_sql_query(sql=f\"SELECT * FROM {'zip_code_governed_table'};\",\n",
    "      database = 'zipcode',\n",
    "      transaction_id = transaction_id)\n",
    "df4.shape[0]"
   ]
  },
  {
   "cell_type": "code",
   "execution_count": null,
   "id": "2006fe0d",
   "metadata": {},
   "outputs": [],
   "source": []
  }
 ],
 "metadata": {
  "kernelspec": {
   "display_name": "Python 3 (ipykernel)",
   "language": "python",
   "name": "python3"
  },
  "language_info": {
   "codemirror_mode": {
    "name": "ipython",
    "version": 3
   },
   "file_extension": ".py",
   "mimetype": "text/x-python",
   "name": "python",
   "nbconvert_exporter": "python",
   "pygments_lexer": "ipython3",
   "version": "3.9.13"
  }
 },
 "nbformat": 4,
 "nbformat_minor": 5
}
